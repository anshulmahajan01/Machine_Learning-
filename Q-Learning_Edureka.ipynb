{
 "cells": [
  {
   "cell_type": "code",
   "execution_count": 1,
   "metadata": {},
   "outputs": [],
   "source": [
    "#only numpy\n",
    "import numpy as np "
   ]
  },
  {
   "cell_type": "code",
   "execution_count": 2,
   "metadata": {},
   "outputs": [],
   "source": [
    "#Initialzie the parameters \n",
    "gamma = 0.75 #Discount Factor \n",
    "alpha = 0.9  #Learning Rate"
   ]
  },
  {
   "cell_type": "code",
   "execution_count": 3,
   "metadata": {},
   "outputs": [],
   "source": [
    "#Define the states \n",
    "location_to_state = {\n",
    "    'L1' : 0,\n",
    "    'L2' : 1,\n",
    "    'L3' : 2,\n",
    "    'L4' : 3,\n",
    "    'L5' : 4,\n",
    "    'L6' : 5,\n",
    "    'L7' : 6,\n",
    "    'L8' : 7,\n",
    "    'L9' : 8,\n",
    "    \n",
    "}"
   ]
  },
  {
   "cell_type": "code",
   "execution_count": 4,
   "metadata": {},
   "outputs": [],
   "source": [
    "#Define the actions \n",
    "actions = [0,1,2,3,4,5,6,7,8]"
   ]
  },
  {
   "cell_type": "code",
   "execution_count": 5,
   "metadata": {},
   "outputs": [],
   "source": [
    "#Define the rewards \n",
    "rewards = np.array([[0,1,0,0,0,0,0,0,0],\n",
    "                   [1,0,1,0,0,0,0,0,0],\n",
    "                   [0,1,0,0,0,1,0,0,0],\n",
    "                   [0,0,0,0,0,0,1,0,0],\n",
    "                   [0,1,0,0,0,0,0,1,0],\n",
    "                   [0,0,1,0,0,0,0,0,0],\n",
    "                   [0,0,0,1,0,0,0,1,0],\n",
    "                   [0,0,0,0,1,0,1,0,1],\n",
    "                   [0,0,0,0,0,0,0,1,0]])"
   ]
  },
  {
   "cell_type": "code",
   "execution_count": 6,
   "metadata": {},
   "outputs": [],
   "source": [
    "state_to_location = dict((state,location) for location,state in location_to_state.items())"
   ]
  },
  {
   "cell_type": "code",
   "execution_count": 7,
   "metadata": {},
   "outputs": [],
   "source": [
    "def get_optimal_route(start_location , end_location):\n",
    "    #Copy the rewards matrix to new matrix \n",
    "    rewards_new = np.copy(rewards)\n",
    "    #Get the ending state corrosponding to the ending location as given\n",
    "    ending_state= location_to_state[end_location]\n",
    "    #With the above information automatically set the priority of the given ending state with the higher one \n",
    "    rewards_new[ending_state , ending_state] =999\n",
    "    \n",
    "    \n",
    "    #..........Q-Learning Algorithm..........#\n",
    "    \n",
    "    #Initializing Q values\n",
    "    Q = np.array(np.zeros([9,9]))\n",
    "    \n",
    "    #Q learning Process \n",
    "    for i in range(1000):\n",
    "        #Pick up the state randomly \n",
    "        current_state = np.random.randint(0,9) #Python excludes the upper bound \n",
    "        #for traversing through the neighbouring location in maze \n",
    "        playable_actions = []\n",
    "        #Iterate through the new rewards matrix and get the actions>0\n",
    "        for j in range(9):\n",
    "            if rewards_new[current_state,j] > 0:\n",
    "                playable_actions.append(j)\n",
    "        #Pick an action randomly from the lsit of the playable actions leading us to the next state \n",
    "        next_state = np.random.choice(playable_actions)\n",
    "        #Compute the temporal difference \n",
    "        #The action here refers to going to the next state \n",
    "        TD = rewards_new[current_state,next_state] +  gamma * Q[next_state , np.argmax(Q[next_state,])] - Q[current_state,next_state]\n",
    "        #Update the Q value using the bellman equation\n",
    "        Q[current_state,next_state] += alpha * TD\n",
    "        \n",
    " #Initialzie the optimal route with the starting location \n",
    "    route = [start_location]\n",
    " #We do not know about the next location yet, so initialize the value of starting location \n",
    "    next_location = start_location \n",
    "    \n",
    " #We don't know how many iterations will be need to reach the final location so we use the while loop \n",
    "    while(next_location != end_location):\n",
    "        #Fetch the starting state \n",
    "        starting_state = location_to_state[start_location]\n",
    "        #Fetch the highest Q-value pertaining to the starting state \n",
    "        next_state = np.argmax(Q[starting_state,])\n",
    "        #We got the index of the next state, but we need the corrosponding letter \n",
    "        next_location = state_to_location[next_state]\n",
    "        route.append(next_location)\n",
    "        # Update the starting location for the next iteration\n",
    "        start_location = next_location\n",
    "\n",
    "    return route"
   ]
  },
  {
   "cell_type": "code",
   "execution_count": 8,
   "metadata": {},
   "outputs": [
    {
     "name": "stdout",
     "output_type": "stream",
     "text": [
      "['L9', 'L8', 'L5', 'L2', 'L1']\n"
     ]
    }
   ],
   "source": [
    "print(get_optimal_route('L9' , 'L1'))"
   ]
  }
 ],
 "metadata": {
  "kernelspec": {
   "display_name": "Python 3",
   "language": "python",
   "name": "python3"
  },
  "language_info": {
   "codemirror_mode": {
    "name": "ipython",
    "version": 3
   },
   "file_extension": ".py",
   "mimetype": "text/x-python",
   "name": "python",
   "nbconvert_exporter": "python",
   "pygments_lexer": "ipython3",
   "version": "3.6.8"
  }
 },
 "nbformat": 4,
 "nbformat_minor": 2
}
