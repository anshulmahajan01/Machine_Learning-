{
 "cells": [
  {
   "cell_type": "code",
   "execution_count": 1,
   "metadata": {},
   "outputs": [],
   "source": [
    "import numpy as np \n",
    "import pandas as pd\n",
    "import matplotlib.pyplot as plt \n",
    "import warnings \n",
    "warnings.filterwarnings('ignore')"
   ]
  },
  {
   "cell_type": "code",
   "execution_count": 2,
   "metadata": {},
   "outputs": [
    {
     "data": {
      "text/html": [
       "<div>\n",
       "<style scoped>\n",
       "    .dataframe tbody tr th:only-of-type {\n",
       "        vertical-align: middle;\n",
       "    }\n",
       "\n",
       "    .dataframe tbody tr th {\n",
       "        vertical-align: top;\n",
       "    }\n",
       "\n",
       "    .dataframe thead th {\n",
       "        text-align: right;\n",
       "    }\n",
       "</style>\n",
       "<table border=\"1\" class=\"dataframe\">\n",
       "  <thead>\n",
       "    <tr style=\"text-align: right;\">\n",
       "      <th></th>\n",
       "      <th>Date</th>\n",
       "      <th>Price</th>\n",
       "    </tr>\n",
       "  </thead>\n",
       "  <tbody>\n",
       "    <tr>\n",
       "      <th>0</th>\n",
       "      <td>2018-08-25 00:00:00</td>\n",
       "      <td>6719.429231</td>\n",
       "    </tr>\n",
       "    <tr>\n",
       "      <th>1</th>\n",
       "      <td>2018-08-26 00:00:00</td>\n",
       "      <td>6673.274167</td>\n",
       "    </tr>\n",
       "    <tr>\n",
       "      <th>2</th>\n",
       "      <td>2018-08-27 00:00:00</td>\n",
       "      <td>6719.266154</td>\n",
       "    </tr>\n",
       "    <tr>\n",
       "      <th>3</th>\n",
       "      <td>2018-08-28 00:00:00</td>\n",
       "      <td>7000.040000</td>\n",
       "    </tr>\n",
       "    <tr>\n",
       "      <th>4</th>\n",
       "      <td>2018-08-29 00:00:00</td>\n",
       "      <td>7054.276429</td>\n",
       "    </tr>\n",
       "  </tbody>\n",
       "</table>\n",
       "</div>"
      ],
      "text/plain": [
       "                  Date        Price\n",
       "0  2018-08-25 00:00:00  6719.429231\n",
       "1  2018-08-26 00:00:00  6673.274167\n",
       "2  2018-08-27 00:00:00  6719.266154\n",
       "3  2018-08-28 00:00:00  7000.040000\n",
       "4  2018-08-29 00:00:00  7054.276429"
      ]
     },
     "execution_count": 2,
     "metadata": {},
     "output_type": "execute_result"
    }
   ],
   "source": [
    "df = pd.read_csv('BitcoinPrice.csv')\n",
    "df.head()"
   ]
  },
  {
   "cell_type": "code",
   "execution_count": 3,
   "metadata": {},
   "outputs": [
    {
     "name": "stdout",
     "output_type": "stream",
     "text": [
      "<class 'pandas.core.frame.DataFrame'>\n",
      "RangeIndex: 365 entries, 0 to 364\n",
      "Data columns (total 2 columns):\n",
      "Date     365 non-null object\n",
      "Price    365 non-null float64\n",
      "dtypes: float64(1), object(1)\n",
      "memory usage: 5.8+ KB\n"
     ]
    }
   ],
   "source": [
    "df.info()"
   ]
  },
  {
   "cell_type": "code",
   "execution_count": 4,
   "metadata": {},
   "outputs": [],
   "source": [
    "df.drop(['Date'], 1 , inplace = True)"
   ]
  },
  {
   "cell_type": "code",
   "execution_count": 5,
   "metadata": {},
   "outputs": [
    {
     "data": {
      "text/html": [
       "<div>\n",
       "<style scoped>\n",
       "    .dataframe tbody tr th:only-of-type {\n",
       "        vertical-align: middle;\n",
       "    }\n",
       "\n",
       "    .dataframe tbody tr th {\n",
       "        vertical-align: top;\n",
       "    }\n",
       "\n",
       "    .dataframe thead th {\n",
       "        text-align: right;\n",
       "    }\n",
       "</style>\n",
       "<table border=\"1\" class=\"dataframe\">\n",
       "  <thead>\n",
       "    <tr style=\"text-align: right;\">\n",
       "      <th></th>\n",
       "      <th>Price</th>\n",
       "    </tr>\n",
       "  </thead>\n",
       "  <tbody>\n",
       "    <tr>\n",
       "      <th>0</th>\n",
       "      <td>6719.429231</td>\n",
       "    </tr>\n",
       "    <tr>\n",
       "      <th>1</th>\n",
       "      <td>6673.274167</td>\n",
       "    </tr>\n",
       "    <tr>\n",
       "      <th>2</th>\n",
       "      <td>6719.266154</td>\n",
       "    </tr>\n",
       "    <tr>\n",
       "      <th>3</th>\n",
       "      <td>7000.040000</td>\n",
       "    </tr>\n",
       "    <tr>\n",
       "      <th>4</th>\n",
       "      <td>7054.276429</td>\n",
       "    </tr>\n",
       "  </tbody>\n",
       "</table>\n",
       "</div>"
      ],
      "text/plain": [
       "         Price\n",
       "0  6719.429231\n",
       "1  6673.274167\n",
       "2  6719.266154\n",
       "3  7000.040000\n",
       "4  7054.276429"
      ]
     },
     "execution_count": 5,
     "metadata": {},
     "output_type": "execute_result"
    }
   ],
   "source": [
    "df.head()"
   ]
  },
  {
   "cell_type": "code",
   "execution_count": 6,
   "metadata": {},
   "outputs": [
    {
     "data": {
      "text/html": [
       "<div>\n",
       "<style scoped>\n",
       "    .dataframe tbody tr th:only-of-type {\n",
       "        vertical-align: middle;\n",
       "    }\n",
       "\n",
       "    .dataframe tbody tr th {\n",
       "        vertical-align: top;\n",
       "    }\n",
       "\n",
       "    .dataframe thead th {\n",
       "        text-align: right;\n",
       "    }\n",
       "</style>\n",
       "<table border=\"1\" class=\"dataframe\">\n",
       "  <thead>\n",
       "    <tr style=\"text-align: right;\">\n",
       "      <th></th>\n",
       "      <th>Price</th>\n",
       "      <th>Predictions</th>\n",
       "    </tr>\n",
       "  </thead>\n",
       "  <tbody>\n",
       "    <tr>\n",
       "      <th>0</th>\n",
       "      <td>6719.429231</td>\n",
       "      <td>6639.304167</td>\n",
       "    </tr>\n",
       "    <tr>\n",
       "      <th>1</th>\n",
       "      <td>6673.274167</td>\n",
       "      <td>6412.459167</td>\n",
       "    </tr>\n",
       "    <tr>\n",
       "      <th>2</th>\n",
       "      <td>6719.266154</td>\n",
       "      <td>6468.631667</td>\n",
       "    </tr>\n",
       "    <tr>\n",
       "      <th>3</th>\n",
       "      <td>7000.040000</td>\n",
       "      <td>6535.476667</td>\n",
       "    </tr>\n",
       "    <tr>\n",
       "      <th>4</th>\n",
       "      <td>7054.276429</td>\n",
       "      <td>6677.342500</td>\n",
       "    </tr>\n",
       "  </tbody>\n",
       "</table>\n",
       "</div>"
      ],
      "text/plain": [
       "         Price  Predictions\n",
       "0  6719.429231  6639.304167\n",
       "1  6673.274167  6412.459167\n",
       "2  6719.266154  6468.631667\n",
       "3  7000.040000  6535.476667\n",
       "4  7054.276429  6677.342500"
      ]
     },
     "execution_count": 6,
     "metadata": {},
     "output_type": "execute_result"
    }
   ],
   "source": [
    "#Predicting the next 30 days \n",
    "p_days = 30\n",
    "df['Predictions'] = df[['Price']].shift(-p_days)\n",
    "df.head()"
   ]
  },
  {
   "cell_type": "code",
   "execution_count": 7,
   "metadata": {},
   "outputs": [],
   "source": [
    "#Separate X & Y\n",
    "\n",
    "X = np.array(df.drop(['Predictions'],1))\n",
    "X = X[: len(df) - p_days]"
   ]
  },
  {
   "cell_type": "code",
   "execution_count": 8,
   "metadata": {},
   "outputs": [
    {
     "data": {
      "text/plain": [
       "(335, 1)"
      ]
     },
     "execution_count": 8,
     "metadata": {},
     "output_type": "execute_result"
    }
   ],
   "source": [
    "X.shape"
   ]
  },
  {
   "cell_type": "code",
   "execution_count": 9,
   "metadata": {},
   "outputs": [
    {
     "data": {
      "text/plain": [
       "(335,)"
      ]
     },
     "execution_count": 9,
     "metadata": {},
     "output_type": "execute_result"
    }
   ],
   "source": [
    "#Creating Y as np array \n",
    "\n",
    "Y = np.array(df['Predictions'])\n",
    "Y = Y[:-p_days]\n",
    "Y.shape"
   ]
  },
  {
   "cell_type": "code",
   "execution_count": 10,
   "metadata": {},
   "outputs": [],
   "source": [
    "#Split the data \n",
    "\n",
    "from sklearn.model_selection import train_test_split\n",
    "X_train,X_test,y_train,y_test = train_test_split(X,Y,test_size= 0.2)"
   ]
  },
  {
   "cell_type": "code",
   "execution_count": 11,
   "metadata": {},
   "outputs": [
    {
     "data": {
      "text/plain": [
       "array([[ 9774.2575    ],\n",
       "       [ 9725.4025    ],\n",
       "       [ 9500.32416667],\n",
       "       [ 9533.97933333],\n",
       "       [ 9539.7125    ],\n",
       "       [ 9873.81166667],\n",
       "       [10088.8       ],\n",
       "       [10478.90166667],\n",
       "       [10790.63      ],\n",
       "       [10826.275     ],\n",
       "       [11713.16166667],\n",
       "       [11759.01916667],\n",
       "       [11703.73833333],\n",
       "       [11803.88833333],\n",
       "       [11816.9125    ],\n",
       "       [11586.1725    ],\n",
       "       [11377.80416667],\n",
       "       [11397.80166667],\n",
       "       [11144.38916667],\n",
       "       [10450.81333333],\n",
       "       [ 9988.9475    ],\n",
       "       [10230.73333333],\n",
       "       [10292.38333333],\n",
       "       [10295.1175    ],\n",
       "       [10605.82583333],\n",
       "       [10746.50769231],\n",
       "       [10169.09416667],\n",
       "       [10030.74666667],\n",
       "       [10255.9775    ],\n",
       "       [10158.54083333]])"
      ]
     },
     "execution_count": 11,
     "metadata": {},
     "output_type": "execute_result"
    }
   ],
   "source": [
    "P_days_array = np.array(df.drop(['Predictions'], 1))[-p_days:]\n",
    "P_days_array"
   ]
  },
  {
   "cell_type": "code",
   "execution_count": 12,
   "metadata": {},
   "outputs": [
    {
     "name": "stdout",
     "output_type": "stream",
     "text": [
      "Random forest accuracy 81.64%\n"
     ]
    }
   ],
   "source": [
    "from sklearn.ensemble import RandomForestRegressor\n",
    "\n",
    "Rf = RandomForestRegressor(n_estimators=1000 , random_state = 1)\n",
    "Rf.fit(X_train, y_train)\n",
    "print(\"Random forest accuracy {:.2f}%\".format(Rf.score(X_test,y_test)*100))"
   ]
  },
  {
   "cell_type": "code",
   "execution_count": 13,
   "metadata": {},
   "outputs": [
    {
     "data": {
      "text/plain": [
       "array([ 4564.44960583,  4433.73159167, 10396.43572583,  6048.62902583,\n",
       "        5673.5467475 ,  3795.72426767,  7161.67283442,  4049.59598606,\n",
       "        6586.49331583,  5065.17357788,  3830.91692231, 11031.10844767,\n",
       "       10047.3144825 ,  8256.37669417, 12207.04882083,  4220.70109417,\n",
       "        3544.52710545,  7170.72662667, 10037.88052833,  6361.98211654,\n",
       "        3498.14725167,  4017.91830038,  5428.27521929,  4068.23387429,\n",
       "        6411.8545775 ,  3944.9845375 , 11184.5685475 , 10493.43815622,\n",
       "        4324.9594675 ,  3963.73275917,  7187.16762667,  8483.06229833,\n",
       "        3548.18054763,  8166.321215  ,  6611.5911175 , 10238.62532833,\n",
       "       10051.49938083,  3965.13542917,  3618.13805333,  3964.43467083,\n",
       "        5731.24326288, 11321.04268833,  3837.16870019,  6479.80470467,\n",
       "        6761.5801975 ,  4084.61084667,  6432.19630167,  4063.1853275 ,\n",
       "       10427.374775  ,  4686.49264994,  3969.4172809 ,  4088.16038167,\n",
       "        6816.94631917, 10160.6336925 ,  3942.77211667,  8325.93948917,\n",
       "        5526.37285558,  4450.60050103,  3822.62979897,  5325.13552667,\n",
       "        5153.05565   , 11407.43733481,  6159.788825  ,  4096.61293494,\n",
       "        6479.80470467,  3884.68224583,  4308.53929455])"
      ]
     },
     "execution_count": 13,
     "metadata": {},
     "output_type": "execute_result"
    }
   ],
   "source": [
    "#Predictions \n",
    "\n",
    "Rf_predict = Rf.predict(X_test)\n",
    "Rf_predict"
   ]
  },
  {
   "cell_type": "code",
   "execution_count": 14,
   "metadata": {},
   "outputs": [
    {
     "data": {
      "text/plain": [
       "array([ 6299.39916667,  6596.61833333, 10092.75166667,  3405.64333333,\n",
       "        3523.96      ,  3468.305     ,  5863.52333333,  4675.1125    ,\n",
       "        7914.53916667,  5042.51769231,  3888.70166667,  9725.4025    ,\n",
       "       10292.38333333,  6563.62833333, 11779.45083333,  3977.45416667,\n",
       "        3452.32833333,  8063.89583333,  9791.0175    ,  6621.71166667,\n",
       "        5281.80916667,  4006.11583333,  4106.87166667,  3426.19      ,\n",
       "        6382.66833333,  4035.855     , 10826.275     , 10851.84833333,\n",
       "        3743.905     ,  5302.9575    ,  7979.575     ,  8114.9325    ,\n",
       "        4980.89833333,  8646.195     ,  6535.47666667, 10746.50769231,\n",
       "       10605.82583333,  3619.96416667,  5018.49833333,  3948.41166667,\n",
       "        3462.04      ,  9147.005     ,  3863.33333333,  6468.63166667,\n",
       "        9096.28583333,  3912.28583333,  6531.60166667,  3865.7975    ,\n",
       "       10255.9775    ,  3961.49333333,  4000.335     ,  3933.95416667,\n",
       "        5654.35333333, 10158.54083333,  4034.13833333,  7338.52083333,\n",
       "        3967.52416667,  6487.44416667,  3656.73583333,  3690.52333333,\n",
       "        5114.85416667, 10852.92666667,  3392.405     ,  3458.06666667,\n",
       "        6639.30416667,  4020.12583333,  5421.52666667])"
      ]
     },
     "execution_count": 14,
     "metadata": {},
     "output_type": "execute_result"
    }
   ],
   "source": [
    "y_test"
   ]
  },
  {
   "cell_type": "code",
   "execution_count": 15,
   "metadata": {},
   "outputs": [
    {
     "data": {
      "text/plain": [
       "array([10432.08169333, 10424.406855  , 10296.46380583, 10347.6749225 ,\n",
       "       10347.6749225 , 10384.57465333, 10047.3144825 , 10265.91752917,\n",
       "       10145.7025325 , 10065.95522917, 10065.21669817, 10860.052133  ,\n",
       "       10065.21669817, 11219.60604767, 11219.60604767, 11232.46461083,\n",
       "       11474.44049833, 11474.44049833, 11218.3000125 , 10213.23977583,\n",
       "       10160.30698833, 10032.28164833, 10056.23495083, 10056.23495083,\n",
       "       10050.25262583, 10129.33422417, 10041.7655575 , 10160.6336925 ,\n",
       "       10056.4743075 , 10041.7655575 ])"
      ]
     },
     "execution_count": 15,
     "metadata": {},
     "output_type": "execute_result"
    }
   ],
   "source": [
    "#Model prediction for 30 days \n",
    "\n",
    "Rf_predict_30  = Rf.predict(P_days_array)\n",
    "Rf_predict_30"
   ]
  },
  {
   "cell_type": "code",
   "execution_count": 16,
   "metadata": {},
   "outputs": [
    {
     "data": {
      "text/html": [
       "<div>\n",
       "<style scoped>\n",
       "    .dataframe tbody tr th:only-of-type {\n",
       "        vertical-align: middle;\n",
       "    }\n",
       "\n",
       "    .dataframe tbody tr th {\n",
       "        vertical-align: top;\n",
       "    }\n",
       "\n",
       "    .dataframe thead th {\n",
       "        text-align: right;\n",
       "    }\n",
       "</style>\n",
       "<table border=\"1\" class=\"dataframe\">\n",
       "  <thead>\n",
       "    <tr style=\"text-align: right;\">\n",
       "      <th></th>\n",
       "      <th>Price</th>\n",
       "      <th>Predictions</th>\n",
       "    </tr>\n",
       "  </thead>\n",
       "  <tbody>\n",
       "    <tr>\n",
       "      <th>335</th>\n",
       "      <td>9774.257500</td>\n",
       "      <td>NaN</td>\n",
       "    </tr>\n",
       "    <tr>\n",
       "      <th>336</th>\n",
       "      <td>9725.402500</td>\n",
       "      <td>NaN</td>\n",
       "    </tr>\n",
       "    <tr>\n",
       "      <th>337</th>\n",
       "      <td>9500.324167</td>\n",
       "      <td>NaN</td>\n",
       "    </tr>\n",
       "    <tr>\n",
       "      <th>338</th>\n",
       "      <td>9533.979333</td>\n",
       "      <td>NaN</td>\n",
       "    </tr>\n",
       "    <tr>\n",
       "      <th>339</th>\n",
       "      <td>9539.712500</td>\n",
       "      <td>NaN</td>\n",
       "    </tr>\n",
       "    <tr>\n",
       "      <th>340</th>\n",
       "      <td>9873.811667</td>\n",
       "      <td>NaN</td>\n",
       "    </tr>\n",
       "    <tr>\n",
       "      <th>341</th>\n",
       "      <td>10088.800000</td>\n",
       "      <td>NaN</td>\n",
       "    </tr>\n",
       "    <tr>\n",
       "      <th>342</th>\n",
       "      <td>10478.901667</td>\n",
       "      <td>NaN</td>\n",
       "    </tr>\n",
       "    <tr>\n",
       "      <th>343</th>\n",
       "      <td>10790.630000</td>\n",
       "      <td>NaN</td>\n",
       "    </tr>\n",
       "    <tr>\n",
       "      <th>344</th>\n",
       "      <td>10826.275000</td>\n",
       "      <td>NaN</td>\n",
       "    </tr>\n",
       "    <tr>\n",
       "      <th>345</th>\n",
       "      <td>11713.161667</td>\n",
       "      <td>NaN</td>\n",
       "    </tr>\n",
       "    <tr>\n",
       "      <th>346</th>\n",
       "      <td>11759.019167</td>\n",
       "      <td>NaN</td>\n",
       "    </tr>\n",
       "    <tr>\n",
       "      <th>347</th>\n",
       "      <td>11703.738333</td>\n",
       "      <td>NaN</td>\n",
       "    </tr>\n",
       "    <tr>\n",
       "      <th>348</th>\n",
       "      <td>11803.888333</td>\n",
       "      <td>NaN</td>\n",
       "    </tr>\n",
       "    <tr>\n",
       "      <th>349</th>\n",
       "      <td>11816.912500</td>\n",
       "      <td>NaN</td>\n",
       "    </tr>\n",
       "    <tr>\n",
       "      <th>350</th>\n",
       "      <td>11586.172500</td>\n",
       "      <td>NaN</td>\n",
       "    </tr>\n",
       "    <tr>\n",
       "      <th>351</th>\n",
       "      <td>11377.804167</td>\n",
       "      <td>NaN</td>\n",
       "    </tr>\n",
       "    <tr>\n",
       "      <th>352</th>\n",
       "      <td>11397.801667</td>\n",
       "      <td>NaN</td>\n",
       "    </tr>\n",
       "    <tr>\n",
       "      <th>353</th>\n",
       "      <td>11144.389167</td>\n",
       "      <td>NaN</td>\n",
       "    </tr>\n",
       "    <tr>\n",
       "      <th>354</th>\n",
       "      <td>10450.813333</td>\n",
       "      <td>NaN</td>\n",
       "    </tr>\n",
       "    <tr>\n",
       "      <th>355</th>\n",
       "      <td>9988.947500</td>\n",
       "      <td>NaN</td>\n",
       "    </tr>\n",
       "    <tr>\n",
       "      <th>356</th>\n",
       "      <td>10230.733333</td>\n",
       "      <td>NaN</td>\n",
       "    </tr>\n",
       "    <tr>\n",
       "      <th>357</th>\n",
       "      <td>10292.383333</td>\n",
       "      <td>NaN</td>\n",
       "    </tr>\n",
       "    <tr>\n",
       "      <th>358</th>\n",
       "      <td>10295.117500</td>\n",
       "      <td>NaN</td>\n",
       "    </tr>\n",
       "    <tr>\n",
       "      <th>359</th>\n",
       "      <td>10605.825833</td>\n",
       "      <td>NaN</td>\n",
       "    </tr>\n",
       "    <tr>\n",
       "      <th>360</th>\n",
       "      <td>10746.507692</td>\n",
       "      <td>NaN</td>\n",
       "    </tr>\n",
       "    <tr>\n",
       "      <th>361</th>\n",
       "      <td>10169.094167</td>\n",
       "      <td>NaN</td>\n",
       "    </tr>\n",
       "    <tr>\n",
       "      <th>362</th>\n",
       "      <td>10030.746667</td>\n",
       "      <td>NaN</td>\n",
       "    </tr>\n",
       "    <tr>\n",
       "      <th>363</th>\n",
       "      <td>10255.977500</td>\n",
       "      <td>NaN</td>\n",
       "    </tr>\n",
       "    <tr>\n",
       "      <th>364</th>\n",
       "      <td>10158.540833</td>\n",
       "      <td>NaN</td>\n",
       "    </tr>\n",
       "  </tbody>\n",
       "</table>\n",
       "</div>"
      ],
      "text/plain": [
       "            Price  Predictions\n",
       "335   9774.257500          NaN\n",
       "336   9725.402500          NaN\n",
       "337   9500.324167          NaN\n",
       "338   9533.979333          NaN\n",
       "339   9539.712500          NaN\n",
       "340   9873.811667          NaN\n",
       "341  10088.800000          NaN\n",
       "342  10478.901667          NaN\n",
       "343  10790.630000          NaN\n",
       "344  10826.275000          NaN\n",
       "345  11713.161667          NaN\n",
       "346  11759.019167          NaN\n",
       "347  11703.738333          NaN\n",
       "348  11803.888333          NaN\n",
       "349  11816.912500          NaN\n",
       "350  11586.172500          NaN\n",
       "351  11377.804167          NaN\n",
       "352  11397.801667          NaN\n",
       "353  11144.389167          NaN\n",
       "354  10450.813333          NaN\n",
       "355   9988.947500          NaN\n",
       "356  10230.733333          NaN\n",
       "357  10292.383333          NaN\n",
       "358  10295.117500          NaN\n",
       "359  10605.825833          NaN\n",
       "360  10746.507692          NaN\n",
       "361  10169.094167          NaN\n",
       "362  10030.746667          NaN\n",
       "363  10255.977500          NaN\n",
       "364  10158.540833          NaN"
      ]
     },
     "execution_count": 16,
     "metadata": {},
     "output_type": "execute_result"
    }
   ],
   "source": [
    "#Original Values \n",
    "df.tail(30)"
   ]
  }
 ],
 "metadata": {
  "kernelspec": {
   "display_name": "Python 3",
   "language": "python",
   "name": "python3"
  },
  "language_info": {
   "codemirror_mode": {
    "name": "ipython",
    "version": 3
   },
   "file_extension": ".py",
   "mimetype": "text/x-python",
   "name": "python",
   "nbconvert_exporter": "python",
   "pygments_lexer": "ipython3",
   "version": "3.6.9"
  }
 },
 "nbformat": 4,
 "nbformat_minor": 2
}
