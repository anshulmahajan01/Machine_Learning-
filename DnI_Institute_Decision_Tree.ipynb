{
 "cells": [
  {
   "cell_type": "code",
   "execution_count": 1,
   "metadata": {},
   "outputs": [],
   "source": [
    "#Read data from pandas \n",
    "\n",
    "import pandas as pd \n",
    "binary = pd.read_csv('http://dni-institute.in/blogs/wp-content/uploads/2017/07/dt_data.csv')"
   ]
  },
  {
   "cell_type": "code",
   "execution_count": 2,
   "metadata": {},
   "outputs": [
    {
     "data": {
      "text/html": [
       "<div>\n",
       "<style scoped>\n",
       "    .dataframe tbody tr th:only-of-type {\n",
       "        vertical-align: middle;\n",
       "    }\n",
       "\n",
       "    .dataframe tbody tr th {\n",
       "        vertical-align: top;\n",
       "    }\n",
       "\n",
       "    .dataframe thead th {\n",
       "        text-align: right;\n",
       "    }\n",
       "</style>\n",
       "<table border=\"1\" class=\"dataframe\">\n",
       "  <thead>\n",
       "    <tr style=\"text-align: right;\">\n",
       "      <th></th>\n",
       "      <th>Card_Cust_ID</th>\n",
       "      <th>Unnamed: 3</th>\n",
       "      <th>Last_Month_spend</th>\n",
       "      <th>Last_3m_avg_spend</th>\n",
       "      <th>Spend_Drop_over50pct</th>\n",
       "    </tr>\n",
       "  </thead>\n",
       "  <tbody>\n",
       "    <tr>\n",
       "      <th>count</th>\n",
       "      <td>4.750000e+02</td>\n",
       "      <td>0.0</td>\n",
       "      <td>475.000000</td>\n",
       "      <td>475.000000</td>\n",
       "      <td>475.000000</td>\n",
       "    </tr>\n",
       "    <tr>\n",
       "      <th>mean</th>\n",
       "      <td>1.002555e+06</td>\n",
       "      <td>NaN</td>\n",
       "      <td>602.147368</td>\n",
       "      <td>602.042105</td>\n",
       "      <td>0.263158</td>\n",
       "    </tr>\n",
       "    <tr>\n",
       "      <th>std</th>\n",
       "      <td>4.481438e+03</td>\n",
       "      <td>NaN</td>\n",
       "      <td>343.098348</td>\n",
       "      <td>343.130657</td>\n",
       "      <td>0.440812</td>\n",
       "    </tr>\n",
       "    <tr>\n",
       "      <th>min</th>\n",
       "      <td>1.000001e+06</td>\n",
       "      <td>NaN</td>\n",
       "      <td>10.000000</td>\n",
       "      <td>10.000000</td>\n",
       "      <td>0.000000</td>\n",
       "    </tr>\n",
       "    <tr>\n",
       "      <th>25%</th>\n",
       "      <td>1.000130e+06</td>\n",
       "      <td>NaN</td>\n",
       "      <td>310.000000</td>\n",
       "      <td>305.000000</td>\n",
       "      <td>0.000000</td>\n",
       "    </tr>\n",
       "    <tr>\n",
       "      <th>50%</th>\n",
       "      <td>1.000253e+06</td>\n",
       "      <td>NaN</td>\n",
       "      <td>600.000000</td>\n",
       "      <td>600.000000</td>\n",
       "      <td>0.000000</td>\n",
       "    </tr>\n",
       "    <tr>\n",
       "      <th>75%</th>\n",
       "      <td>1.000382e+06</td>\n",
       "      <td>NaN</td>\n",
       "      <td>900.000000</td>\n",
       "      <td>900.000000</td>\n",
       "      <td>1.000000</td>\n",
       "    </tr>\n",
       "    <tr>\n",
       "      <th>max</th>\n",
       "      <td>1.011114e+06</td>\n",
       "      <td>NaN</td>\n",
       "      <td>1190.000000</td>\n",
       "      <td>1200.000000</td>\n",
       "      <td>1.000000</td>\n",
       "    </tr>\n",
       "  </tbody>\n",
       "</table>\n",
       "</div>"
      ],
      "text/plain": [
       "       Card_Cust_ID  Unnamed: 3  Last_Month_spend  Last_3m_avg_spend  \\\n",
       "count  4.750000e+02         0.0        475.000000         475.000000   \n",
       "mean   1.002555e+06         NaN        602.147368         602.042105   \n",
       "std    4.481438e+03         NaN        343.098348         343.130657   \n",
       "min    1.000001e+06         NaN         10.000000          10.000000   \n",
       "25%    1.000130e+06         NaN        310.000000         305.000000   \n",
       "50%    1.000253e+06         NaN        600.000000         600.000000   \n",
       "75%    1.000382e+06         NaN        900.000000         900.000000   \n",
       "max    1.011114e+06         NaN       1190.000000        1200.000000   \n",
       "\n",
       "       Spend_Drop_over50pct  \n",
       "count            475.000000  \n",
       "mean               0.263158  \n",
       "std                0.440812  \n",
       "min                0.000000  \n",
       "25%                0.000000  \n",
       "50%                0.000000  \n",
       "75%                1.000000  \n",
       "max                1.000000  "
      ]
     },
     "execution_count": 2,
     "metadata": {},
     "output_type": "execute_result"
    }
   ],
   "source": [
    "binary.describe()"
   ]
  },
  {
   "cell_type": "code",
   "execution_count": 4,
   "metadata": {},
   "outputs": [
    {
     "data": {
      "text/plain": [
       "Index(['Card_Cust_ID', 'Gender', 'Education_level', 'Unnamed: 3',\n",
       "       'Last_Month_spend', 'Last_3m_avg_spend', 'Spend_Drop_over50pct'],\n",
       "      dtype='object')"
      ]
     },
     "execution_count": 4,
     "metadata": {},
     "output_type": "execute_result"
    }
   ],
   "source": [
    "#Columns\n",
    "binary.dtypes.index"
   ]
  },
  {
   "cell_type": "code",
   "execution_count": 5,
   "metadata": {},
   "outputs": [],
   "source": [
    "#Drop a Column\n",
    "\n",
    "binary.drop('Unnamed: 3' , axis = 1 , inplace = True)"
   ]
  },
  {
   "cell_type": "code",
   "execution_count": 7,
   "metadata": {},
   "outputs": [
    {
     "data": {
      "text/html": [
       "<div>\n",
       "<style scoped>\n",
       "    .dataframe tbody tr th:only-of-type {\n",
       "        vertical-align: middle;\n",
       "    }\n",
       "\n",
       "    .dataframe tbody tr th {\n",
       "        vertical-align: top;\n",
       "    }\n",
       "\n",
       "    .dataframe thead th {\n",
       "        text-align: right;\n",
       "    }\n",
       "</style>\n",
       "<table border=\"1\" class=\"dataframe\">\n",
       "  <thead>\n",
       "    <tr style=\"text-align: right;\">\n",
       "      <th></th>\n",
       "      <th>Card_Cust_ID</th>\n",
       "      <th>Gender</th>\n",
       "      <th>Education_level</th>\n",
       "      <th>Last_Month_spend</th>\n",
       "      <th>Last_3m_avg_spend</th>\n",
       "      <th>Spend_Drop_over50pct</th>\n",
       "    </tr>\n",
       "  </thead>\n",
       "  <tbody>\n",
       "    <tr>\n",
       "      <th>0</th>\n",
       "      <td>1000001</td>\n",
       "      <td>F</td>\n",
       "      <td>University</td>\n",
       "      <td>160</td>\n",
       "      <td>200</td>\n",
       "      <td>B</td>\n",
       "    </tr>\n",
       "    <tr>\n",
       "      <th>1</th>\n",
       "      <td>1000002</td>\n",
       "      <td>F</td>\n",
       "      <td>University</td>\n",
       "      <td>250</td>\n",
       "      <td>190</td>\n",
       "      <td>A</td>\n",
       "    </tr>\n",
       "    <tr>\n",
       "      <th>2</th>\n",
       "      <td>1000003</td>\n",
       "      <td>F</td>\n",
       "      <td>University</td>\n",
       "      <td>470</td>\n",
       "      <td>530</td>\n",
       "      <td>A</td>\n",
       "    </tr>\n",
       "    <tr>\n",
       "      <th>3</th>\n",
       "      <td>1000004</td>\n",
       "      <td>F</td>\n",
       "      <td>University</td>\n",
       "      <td>830</td>\n",
       "      <td>800</td>\n",
       "      <td>A</td>\n",
       "    </tr>\n",
       "    <tr>\n",
       "      <th>4</th>\n",
       "      <td>1000005</td>\n",
       "      <td>M</td>\n",
       "      <td>University</td>\n",
       "      <td>750</td>\n",
       "      <td>480</td>\n",
       "      <td>A</td>\n",
       "    </tr>\n",
       "  </tbody>\n",
       "</table>\n",
       "</div>"
      ],
      "text/plain": [
       "   Card_Cust_ID Gender Education_level  Last_Month_spend  Last_3m_avg_spend  \\\n",
       "0       1000001      F      University               160                200   \n",
       "1       1000002      F      University               250                190   \n",
       "2       1000003      F      University               470                530   \n",
       "3       1000004      F      University               830                800   \n",
       "4       1000005      M      University               750                480   \n",
       "\n",
       "  Spend_Drop_over50pct  \n",
       "0                    B  \n",
       "1                    A  \n",
       "2                    A  \n",
       "3                    A  \n",
       "4                    A  "
      ]
     },
     "execution_count": 7,
     "metadata": {},
     "output_type": "execute_result"
    }
   ],
   "source": [
    "#Target variable to be made {-1,1}\n",
    "binary.Spend_Drop_over50pct.replace([0,1] , ['A' , 'B'] , inplace = True)\n",
    "\n",
    "binary.head()"
   ]
  },
  {
   "cell_type": "code",
   "execution_count": 8,
   "metadata": {},
   "outputs": [
    {
     "data": {
      "text/plain": [
       "A    350\n",
       "B    125\n",
       "Name: Spend_Drop_over50pct, dtype: int64"
      ]
     },
     "execution_count": 8,
     "metadata": {},
     "output_type": "execute_result"
    }
   ],
   "source": [
    "#Count Target variable values \n",
    "\n",
    "binary.Spend_Drop_over50pct.value_counts()"
   ]
  },
  {
   "cell_type": "code",
   "execution_count": 10,
   "metadata": {},
   "outputs": [
    {
     "data": {
      "text/plain": [
       "A    73.68\n",
       "B    26.32\n",
       "Name: Spend_Drop_over50pct, dtype: float64"
      ]
     },
     "execution_count": 10,
     "metadata": {},
     "output_type": "execute_result"
    }
   ],
   "source": [
    "#Find % values of the target variable levels \n",
    "\n",
    "round(binary.Spend_Drop_over50pct.value_counts()*100/len(binary.axes[0]),2)"
   ]
  },
  {
   "cell_type": "code",
   "execution_count": 13,
   "metadata": {},
   "outputs": [
    {
     "data": {
      "text/html": [
       "<div>\n",
       "<style scoped>\n",
       "    .dataframe tbody tr th:only-of-type {\n",
       "        vertical-align: middle;\n",
       "    }\n",
       "\n",
       "    .dataframe tbody tr th {\n",
       "        vertical-align: top;\n",
       "    }\n",
       "\n",
       "    .dataframe thead th {\n",
       "        text-align: right;\n",
       "    }\n",
       "</style>\n",
       "<table border=\"1\" class=\"dataframe\">\n",
       "  <thead>\n",
       "    <tr style=\"text-align: right;\">\n",
       "      <th></th>\n",
       "      <th>Card_Cust_ID</th>\n",
       "      <th>Gender</th>\n",
       "      <th>Education_level</th>\n",
       "      <th>Last_Month_spend</th>\n",
       "      <th>Last_3m_avg_spend</th>\n",
       "      <th>Spend_Drop_over50pct</th>\n",
       "    </tr>\n",
       "  </thead>\n",
       "  <tbody>\n",
       "    <tr>\n",
       "      <th>34</th>\n",
       "      <td>1000037</td>\n",
       "      <td>M</td>\n",
       "      <td>Graduate</td>\n",
       "      <td>20</td>\n",
       "      <td>30</td>\n",
       "      <td>B</td>\n",
       "    </tr>\n",
       "    <tr>\n",
       "      <th>335</th>\n",
       "      <td>1000361</td>\n",
       "      <td>M</td>\n",
       "      <td>University</td>\n",
       "      <td>790</td>\n",
       "      <td>780</td>\n",
       "      <td>A</td>\n",
       "    </tr>\n",
       "    <tr>\n",
       "      <th>439</th>\n",
       "      <td>1011077</td>\n",
       "      <td>M</td>\n",
       "      <td>High School</td>\n",
       "      <td>1190</td>\n",
       "      <td>1190</td>\n",
       "      <td>A</td>\n",
       "    </tr>\n",
       "    <tr>\n",
       "      <th>4</th>\n",
       "      <td>1000005</td>\n",
       "      <td>M</td>\n",
       "      <td>University</td>\n",
       "      <td>750</td>\n",
       "      <td>480</td>\n",
       "      <td>A</td>\n",
       "    </tr>\n",
       "    <tr>\n",
       "      <th>169</th>\n",
       "      <td>1000183</td>\n",
       "      <td>M</td>\n",
       "      <td>University</td>\n",
       "      <td>460</td>\n",
       "      <td>400</td>\n",
       "      <td>B</td>\n",
       "    </tr>\n",
       "  </tbody>\n",
       "</table>\n",
       "</div>"
      ],
      "text/plain": [
       "     Card_Cust_ID Gender Education_level  Last_Month_spend  Last_3m_avg_spend  \\\n",
       "34        1000037      M        Graduate                20                 30   \n",
       "335       1000361      M      University               790                780   \n",
       "439       1011077      M     High School              1190               1190   \n",
       "4         1000005      M      University               750                480   \n",
       "169       1000183      M      University               460                400   \n",
       "\n",
       "    Spend_Drop_over50pct  \n",
       "34                     B  \n",
       "335                    A  \n",
       "439                    A  \n",
       "4                      A  \n",
       "169                    B  "
      ]
     },
     "execution_count": 13,
     "metadata": {},
     "output_type": "execute_result"
    }
   ],
   "source": [
    "#Split sample into train and test \n",
    "from sklearn.model_selection import train_test_split\n",
    "Train,Test = train_test_split(binary , random_state = 176, test_size = 0.3)\n",
    "\n",
    "Train.head()"
   ]
  },
  {
   "cell_type": "code",
   "execution_count": 14,
   "metadata": {},
   "outputs": [],
   "source": [
    "#Keep the target and independent variables into different arrays \n",
    "\n",
    "Train_IndependentVars = Train.values[: , 3:5]\n",
    "Train_TargetVars = Train.values[:,5]"
   ]
  },
  {
   "cell_type": "code",
   "execution_count": 18,
   "metadata": {},
   "outputs": [
    {
     "data": {
      "text/plain": [
       "DecisionTreeClassifier(class_weight=None, criterion='gini', max_depth=5,\n",
       "            max_features=None, max_leaf_nodes=None,\n",
       "            min_impurity_decrease=0.0, min_impurity_split=None,\n",
       "            min_samples_leaf=5, min_samples_split=2,\n",
       "            min_weight_fraction_leaf=0.0, presort=False, random_state=100,\n",
       "            splitter='best')"
      ]
     },
     "execution_count": 18,
     "metadata": {},
     "output_type": "execute_result"
    }
   ],
   "source": [
    "from sklearn import tree\n",
    "from sklearn.tree import DecisionTreeClassifier\n",
    "\n",
    "\n",
    "#Build Decision Tree CART Algorithm \n",
    "dt_train_gini = DecisionTreeClassifier(criterion  = 'gini' , random_state = 100 , max_depth = 5, \n",
    "                                      min_samples_leaf = 5)\n",
    "\n",
    "#Train \n",
    "dt_train_gini.fit(Train_IndependentVars , Train_TargetVars)"
   ]
  },
  {
   "cell_type": "code",
   "execution_count": 19,
   "metadata": {},
   "outputs": [],
   "source": [
    "with open(\"dt_train_gini.txt\" , \"w\") as f:\n",
    "    f = tree.export_graphviz(dt_train_gini , out_file = f)"
   ]
  },
  {
   "cell_type": "code",
   "execution_count": null,
   "metadata": {},
   "outputs": [],
   "source": []
  },
  {
   "cell_type": "code",
   "execution_count": null,
   "metadata": {},
   "outputs": [],
   "source": []
  }
 ],
 "metadata": {
  "kernelspec": {
   "display_name": "Python 3",
   "language": "python",
   "name": "python3"
  },
  "language_info": {
   "codemirror_mode": {
    "name": "ipython",
    "version": 3
   },
   "file_extension": ".py",
   "mimetype": "text/x-python",
   "name": "python",
   "nbconvert_exporter": "python",
   "pygments_lexer": "ipython3",
   "version": "3.6.7"
  }
 },
 "nbformat": 4,
 "nbformat_minor": 2
}
