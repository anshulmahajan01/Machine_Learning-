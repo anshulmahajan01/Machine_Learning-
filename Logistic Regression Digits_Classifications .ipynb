{
 "cells": [
  {
   "cell_type": "code",
   "execution_count": 1,
   "metadata": {},
   "outputs": [],
   "source": [
    "from sklearn.datasets import load_digits\n",
    "from sklearn.model_selection import train_test_split\n",
    "from sklearn import metrics \n",
    "\n",
    "\n",
    "import numpy as np \n",
    "import pandas as pd \n",
    "import matplotlib.pyplot as plt \n",
    "import seaborn as sns \n",
    "\n",
    "%matplotlib inline "
   ]
  },
  {
   "cell_type": "code",
   "execution_count": 2,
   "metadata": {},
   "outputs": [],
   "source": [
    "digits = load_digits()"
   ]
  },
  {
   "cell_type": "code",
   "execution_count": 3,
   "metadata": {},
   "outputs": [
    {
     "name": "stdout",
     "output_type": "stream",
     "text": [
      "Image data shape :  (1797, 64)\n",
      "Label data shape :  (1797,)\n"
     ]
    }
   ],
   "source": [
    "print(\"Image data shape : \" , digits.data.shape)\n",
    "print(\"Label data shape : \" , digits.target.shape)"
   ]
  },
  {
   "cell_type": "code",
   "execution_count": 4,
   "metadata": {},
   "outputs": [
    {
     "data": {
      "image/png": "[encoded data removed]",
      "text/plain": [
       "<Figure size 1440x288 with 5 Axes>"
      ]
     },
     "metadata": {
      "needs_background": "light"
     },
     "output_type": "display_data"
    }
   ],
   "source": [
    "plt.figure(figsize=(20,4))\n",
    "for index , (image,label) in enumerate(zip(digits.data[0:5] , digits.target[0:5])):\n",
    "    plt.subplot(1,5,index +1)\n",
    "    plt.imshow(np.reshape(image , (8,8)) , cmap = plt.cm.gray)\n",
    "    plt.title('Training %i\\n' % label ,fontsize = 20)"
   ]
  },
  {
   "cell_type": "code",
   "execution_count": 5,
   "metadata": {},
   "outputs": [],
   "source": [
    "x_train,x_test , y_train,y_test = train_test_split(digits.data,digits.target , test_size = 0.23 , random_state = 2)"
   ]
  },
  {
   "cell_type": "code",
   "execution_count": 6,
   "metadata": {},
   "outputs": [
    {
     "data": {
      "text/plain": [
       "(1383, 64)"
      ]
     },
     "execution_count": 6,
     "metadata": {},
     "output_type": "execute_result"
    }
   ],
   "source": [
    "x_train.shape"
   ]
  },
  {
   "cell_type": "code",
   "execution_count": 7,
   "metadata": {},
   "outputs": [
    {
     "data": {
      "text/plain": [
       "(1383,)"
      ]
     },
     "execution_count": 7,
     "metadata": {},
     "output_type": "execute_result"
    }
   ],
   "source": [
    "y_train.shape"
   ]
  },
  {
   "cell_type": "code",
   "execution_count": 8,
   "metadata": {},
   "outputs": [
    {
     "data": {
      "text/plain": [
       "(414, 64)"
      ]
     },
     "execution_count": 8,
     "metadata": {},
     "output_type": "execute_result"
    }
   ],
   "source": [
    "x_test.shape"
   ]
  },
  {
   "cell_type": "code",
   "execution_count": 9,
   "metadata": {},
   "outputs": [
    {
     "data": {
      "text/plain": [
       "(414,)"
      ]
     },
     "execution_count": 9,
     "metadata": {},
     "output_type": "execute_result"
    }
   ],
   "source": [
    "y_test.shape"
   ]
  },
  {
   "cell_type": "code",
   "execution_count": 10,
   "metadata": {},
   "outputs": [],
   "source": [
    "from sklearn.linear_model import LogisticRegression"
   ]
  },
  {
   "cell_type": "code",
   "execution_count": 11,
   "metadata": {},
   "outputs": [
    {
     "name": "stderr",
     "output_type": "stream",
     "text": [
      "C:\\Users\\User\\Anaconda3\\lib\\site-packages\\sklearn\\linear_model\\logistic.py:432: FutureWarning: Default solver will be changed to 'lbfgs' in 0.22. Specify a solver to silence this warning.\n",
      "  FutureWarning)\n",
      "C:\\Users\\User\\Anaconda3\\lib\\site-packages\\sklearn\\linear_model\\logistic.py:469: FutureWarning: Default multi_class will be changed to 'auto' in 0.22. Specify the multi_class option to silence this warning.\n",
      "  \"this warning.\", FutureWarning)\n"
     ]
    },
    {
     "data": {
      "text/plain": [
       "LogisticRegression(C=1.0, class_weight=None, dual=False, fit_intercept=True,\n",
       "                   intercept_scaling=1, l1_ratio=None, max_iter=100,\n",
       "                   multi_class='warn', n_jobs=None, penalty='l2',\n",
       "                   random_state=None, solver='warn', tol=0.0001, verbose=0,\n",
       "                   warm_start=False)"
      ]
     },
     "execution_count": 11,
     "metadata": {},
     "output_type": "execute_result"
    }
   ],
   "source": [
    "logisticreg = LogisticRegression()\n",
    "logisticreg.fit(x_train,y_train)"
   ]
  },
  {
   "cell_type": "code",
   "execution_count": 12,
   "metadata": {},
   "outputs": [
    {
     "data": {
      "text/plain": [
       "array([4])"
      ]
     },
     "execution_count": 12,
     "metadata": {},
     "output_type": "execute_result"
    }
   ],
   "source": [
    "#Returns a numpy array \n",
    "#Predict for one observation (image)\n",
    "\n",
    "logisticreg.predict(x_test[0].reshape(1,-1))"
   ]
  },
  {
   "cell_type": "code",
   "execution_count": 13,
   "metadata": {},
   "outputs": [
    {
     "data": {
      "text/plain": [
       "array([4, 0, 9, 1, 8, 7, 1, 5, 1, 6])"
      ]
     },
     "execution_count": 13,
     "metadata": {},
     "output_type": "execute_result"
    }
   ],
   "source": [
    "logisticreg.predict(x_test[0:10])"
   ]
  },
  {
   "cell_type": "code",
   "execution_count": 14,
   "metadata": {},
   "outputs": [
    {
     "data": {
      "text/plain": [
       "array([4, 0, 9, 1, 8, 7, 1, 5, 1, 6, 6, 7, 6, 1, 5, 5, 1, 6, 2, 7, 4, 6,\n",
       "       4, 1, 5, 2, 9, 5, 4, 6, 5, 6, 3, 4, 0, 9, 9, 8, 4, 6, 8, 1, 5, 7,\n",
       "       8, 8, 9, 6, 1, 7, 0, 1, 9, 7, 3, 3, 1, 8, 8, 8, 9, 8, 5, 1, 4, 8,\n",
       "       7, 5, 8, 4, 3, 9, 3, 8, 7, 3, 3, 0, 8, 7, 2, 8, 5, 3, 8, 7, 6, 4,\n",
       "       6, 2, 2, 0, 1, 1, 5, 3, 5, 7, 6, 8, 2, 2, 6, 4, 6, 7, 3, 7, 3, 9,\n",
       "       4, 7, 0, 3, 5, 1, 5, 0, 3, 9, 2, 7, 7, 2, 0, 8, 1, 9, 2, 1, 5, 1,\n",
       "       0, 3, 4, 3, 0, 8, 3, 2, 2, 7, 3, 1, 6, 7, 2, 8, 3, 1, 1, 6, 4, 8,\n",
       "       2, 1, 8, 4, 8, 3, 1, 1, 9, 5, 4, 9, 7, 4, 8, 9, 5, 7, 6, 9, 0, 0,\n",
       "       4, 0, 0, 9, 0, 6, 5, 8, 8, 3, 7, 8, 2, 0, 8, 2, 7, 3, 0, 2, 1, 5,\n",
       "       2, 7, 0, 6, 9, 3, 3, 1, 3, 5, 2, 8, 5, 2, 1, 2, 9, 4, 6, 5, 5, 5,\n",
       "       9, 7, 1, 5, 7, 6, 3, 7, 1, 7, 5, 1, 7, 2, 7, 5, 5, 4, 8, 6, 6, 2,\n",
       "       8, 7, 3, 7, 8, 0, 3, 5, 7, 4, 3, 4, 1, 0, 3, 3, 5, 4, 1, 3, 1, 2,\n",
       "       5, 1, 4, 0, 3, 1, 5, 5, 7, 4, 0, 1, 0, 8, 5, 5, 5, 4, 0, 1, 8, 6,\n",
       "       2, 1, 1, 1, 7, 9, 6, 7, 9, 7, 0, 4, 9, 6, 9, 2, 7, 2, 1, 0, 8, 2,\n",
       "       8, 6, 5, 7, 8, 4, 5, 7, 8, 6, 5, 2, 6, 9, 3, 0, 0, 8, 0, 6, 6, 7,\n",
       "       1, 4, 5, 6, 9, 7, 2, 8, 5, 1, 2, 4, 1, 8, 8, 7, 6, 0, 8, 0, 6, 5,\n",
       "       5, 7, 8, 0, 4, 1, 4, 5, 9, 2, 2, 3, 9, 1, 3, 9, 3, 2, 8, 0, 6, 5,\n",
       "       6, 2, 5, 2, 3, 2, 6, 1, 0, 7, 6, 0, 6, 2, 7, 0, 3, 2, 4, 2, 9, 6,\n",
       "       9, 7, 7, 0, 3, 5, 4, 1, 2, 2, 1, 2, 7, 7, 0, 4, 9, 8])"
      ]
     },
     "execution_count": 14,
     "metadata": {},
     "output_type": "execute_result"
    }
   ],
   "source": [
    "predictions = logisticreg.predict(x_test)\n",
    "predictions"
   ]
  },
  {
   "cell_type": "code",
   "execution_count": 15,
   "metadata": {},
   "outputs": [
    {
     "data": {
      "text/plain": [
       "0.9420289855072463"
      ]
     },
     "execution_count": 15,
     "metadata": {},
     "output_type": "execute_result"
    }
   ],
   "source": [
    "score = logisticreg.score(x_test,y_test)\n",
    "score"
   ]
  },
  {
   "cell_type": "code",
   "execution_count": 16,
   "metadata": {},
   "outputs": [
    {
     "data": {
      "text/plain": [
       "array([[38,  0,  0,  0,  0,  0,  0,  0,  0,  0],\n",
       "       [ 0, 44,  0,  1,  0,  0,  0,  0,  2,  1],\n",
       "       [ 0,  0, 43,  0,  0,  0,  0,  0,  0,  0],\n",
       "       [ 0,  0,  0, 37,  0,  0,  0,  3,  2,  0],\n",
       "       [ 0,  2,  0,  0, 34,  0,  0,  0,  1,  1],\n",
       "       [ 0,  0,  0,  0,  0, 46,  0,  0,  0,  0],\n",
       "       [ 0,  0,  0,  0,  0,  0, 40,  0,  1,  0],\n",
       "       [ 0,  0,  0,  0,  0,  0,  0, 45,  1,  0],\n",
       "       [ 0,  2,  0,  0,  0,  0,  0,  0, 35,  1],\n",
       "       [ 0,  0,  0,  1,  0,  1,  0,  1,  3, 28]], dtype=int64)"
      ]
     },
     "execution_count": 16,
     "metadata": {},
     "output_type": "execute_result"
    }
   ],
   "source": [
    "cm = metrics.confusion_matrix(y_test,predictions)\n",
    "cm"
   ]
  },
  {
   "cell_type": "code",
   "execution_count": 17,
   "metadata": {},
   "outputs": [
    {
     "data": {
      "text/plain": [
       "Text(0.5, 1, 'Accuracy score : 0.9420289855072463')"
      ]
     },
     "execution_count": 17,
     "metadata": {},
     "output_type": "execute_result"
    },
    {
     "data": {
      "image/png": "[encoded data removed]",
      "text/plain": [
       "<Figure size 648x648 with 2 Axes>"
      ]
     },
     "metadata": {
      "needs_background": "light"
     },
     "output_type": "display_data"
    }
   ],
   "source": [
    "plt.figure(figsize=(9,9))\n",
    "sns.heatmap(cm, annot = True,fmt = '.3f', linewidths = .5, square = True , cmap = 'Blues_r');\n",
    "plt.ylabel(\"Actual Label\");\n",
    "plt.xlabel(\"Predicted Label\");\n",
    "all_sample_title = 'Accuracy score : {0}'.format(score)\n",
    "plt.title(all_sample_title , size = 15)"
   ]
  },
  {
   "cell_type": "code",
   "execution_count": 18,
   "metadata": {},
   "outputs": [
    {
     "data": {
      "image/png": "[encoded data removed]",
      "text/plain": [
       "<Figure size 1440x216 with 4 Axes>"
      ]
     },
     "metadata": {
      "needs_background": "light"
     },
     "output_type": "display_data"
    }
   ],
   "source": [
    "index = 0 \n",
    "classifiedindex = []\n",
    "for predict , actual in zip(predictions , y_test):\n",
    "    if predict == actual:\n",
    "        classifiedindex.append(index)\n",
    "    index += 1\n",
    "    \n",
    "plt.figure(figsize=(20,3))\n",
    "for plotIndex , wrong in enumerate(classifiedindex[0:4]):\n",
    "    plt.subplot(1,4,plotIndex+1)\n",
    "    plt.imshow(np.reshape(x_test[wrong] , (8,8)) , cmap = plt.cm.gray)\n",
    "    plt.title('Predcited :  {} , Actual : {}' .format(predictions[wrong] , y_test[wrong]) , fontsize = 20)"
   ]
  }
 ],
 "metadata": {
  "kernelspec": {
   "display_name": "Python 3",
   "language": "python",
   "name": "python3"
  },
  "language_info": {
   "codemirror_mode": {
    "name": "ipython",
    "version": 3
   },
   "file_extension": ".py",
   "mimetype": "text/x-python",
   "name": "python",
   "nbconvert_exporter": "python",
   "pygments_lexer": "ipython3",
   "version": "3.6.9"
  }
 },
 "nbformat": 4,
 "nbformat_minor": 2
}
