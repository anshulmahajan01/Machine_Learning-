{
 "cells": [
  {
   "cell_type": "code",
   "execution_count": 1,
   "metadata": {},
   "outputs": [],
   "source": [
    "from selenium import webdriver \n",
    "import pandas as pd \n",
    "from bs4 import BeautifulSoup"
   ]
  },
  {
   "cell_type": "markdown",
   "metadata": {},
   "source": [
    "# Code to Scrap Big Data Jobs"
   ]
  },
  {
   "cell_type": "code",
   "execution_count": null,
   "metadata": {},
   "outputs": [],
   "source": [
    "driver = webdriver.Chrome('./chromedriver')\n",
    "\n",
    "dataframe = pd.DataFrame(columns=['Title' ,'Location' ,'Company' ,'Salary' ,'Sponsored' ,'Desctiption'])\n",
    "\n",
    "#Step 1 - Get the page\n",
    "\n",
    "for i in range(0,500,10):\n",
    "    driver.get('https://www.indeed.co.in/jobs?q=big+data&l=India&start=' + str(i))\n",
    "    driver.implicitly_wait(4)\n",
    "\n",
    "all_jobs = driver.find_elements_by_class_name('result')\n",
    "\n",
    "for job in all_jobs:\n",
    "    result_html = job.get_attribute('innerHTML')\n",
    "    soup = BeautifulSoup(result_html , 'html.parser')\n",
    "    \n",
    "    try:\n",
    "        title = soup.find('a' , class_=\"jobtitle\").text.replace('\\n' , '')\n",
    "    except:\n",
    "        title = 'None'\n",
    "        \n",
    "    try:\n",
    "        location = soup.find(class_=\"location\").text\n",
    "    except:\n",
    "        location = 'None'\n",
    "    \n",
    "    try:\n",
    "        company = soup.find(class_=\"company\").text.replace(\"\\n\" ,\"\").strip()\n",
    "    except:\n",
    "        company = 'None'\n",
    "    \n",
    "    try:\n",
    "        salary = soup.find(class_=\"location\").text.replace(\"\\n\" ,\"\").strip()\n",
    "    except:\n",
    "        salary = 'None'\n",
    "        \n",
    "    try:\n",
    "        sponsored = soup.find(class_=\"sponsoredGray\").text\n",
    "        sponsored = \"Sponsored\"\n",
    "    except:\n",
    "        sponsored = 'Organic'\n",
    "        \n",
    "        \n",
    "    sum_div = job.find_elements_by_class_name(\"summary\")[0]\n",
    "    try:\n",
    "        sum_div.click()\n",
    "    except:\n",
    "        close_button = driver.find_elements_by_class_name('popover-x-button-close')[0]\n",
    "        close_button.click()\n",
    "        sum_div.click()\n",
    "    \n",
    "    job_desc = driver.find_element_by_id('vjs-desc').text\n",
    "    \n",
    "    dataframe = dataframe.append({'Title':title , 'Location':location, \"Company\" : company,\n",
    "                                 \"Sponsored\" : sponsored , \"Description\" : job_desc} , \n",
    "                                ignore_index = True)\n",
    "dataframe.to_csv('datasciece.csv' , index = \"False\")"
   ]
  },
  {
   "cell_type": "markdown",
   "metadata": {},
   "source": [
    "# Code to scrap Data Science Jobs"
   ]
  },
  {
   "cell_type": "code",
   "execution_count": 3,
   "metadata": {},
   "outputs": [],
   "source": [
    "from selenium import webdriver\n",
    "import pandas as pd\n",
    "from bs4 import BeautifulSoup\n",
    "\n",
    "## Download the chromedriver from link in description\n",
    "## And give the location of executable here\n",
    "driver = webdriver.Chrome(\"./chromedriver\")\n",
    "\n",
    "dataframe = pd.DataFrame(columns=[\"Title\",\"Location\",\"Company\",\"Salary\",\"Sponsored\",\"Description\"])\n",
    "\n",
    "\n",
    "for i in range(0,500,10):\n",
    "\n",
    "\t##Step1: Get the page\n",
    "\tdriver.get(\"https://www.indeed.co.in/jobs?q=data+science&l=India&start=\"+str(i))\n",
    "\tdriver.implicitly_wait(4)\n",
    "\n",
    "\tall_jobs = driver.find_elements_by_class_name('result')\n",
    "\n",
    "\tfor job in all_jobs:\n",
    "\n",
    "\t\tresult_html = job.get_attribute('innerHTML')\n",
    "\t\tsoup = BeautifulSoup(result_html,'html.parser')\n",
    "\n",
    "\t\ttry:\n",
    "\t\t\ttitle = soup.find(\"a\",class_=\"jobtitle\").text.replace('\\n','')\n",
    "\t\texcept:\n",
    "\t\t\ttitle = 'None'\n",
    "\n",
    "\t\ttry:\n",
    "\t\t\tlocation = soup.find(class_=\"location\").text\n",
    "\t\texcept:\n",
    "\t\t\tlocation = 'None'\n",
    "\n",
    "\t\ttry:\n",
    "\t\t\tcompany = soup.find(class_=\"company\").text.replace(\"\\n\",\"\").strip()\n",
    "\t\texcept:\n",
    "\t\t\tcompany = 'None'\n",
    "\n",
    "\t\ttry:\n",
    "\t\t\tsalary = soup.find(class_=\"salary\").text.replace(\"\\n\",\"\").strip()\n",
    "\t\texcept:\n",
    "\t\t\tsalary = 'None'\n",
    "\n",
    "\t\ttry:\n",
    "\t\t\tsponsored = soup.find(class_=\"sponsoredGray\").text\n",
    "\t\t\tsponsored = \"Sponsored\"\n",
    "\t\texcept:\n",
    "\t\t\tsponsored = \"Organic\"\n",
    "\n",
    "\t\t\n",
    "\t\tsum_div = job.find_elements_by_class_name(\"summary\")[0]\n",
    "\t\ttry:\n",
    "\t\t\tsum_div.click()\n",
    "\t\texcept:\n",
    "\t\t\tclose_button = driver.find_elements_by_class_name(\"popover-x-button-close\")[0]\n",
    "\t\t\tclose_button.click()\n",
    "\t\t\tsum_div.click()\n",
    "\t\t\t\n",
    "\n",
    "\t\tjob_desc = driver.find_element_by_id('vjs-desc').text\n",
    "\n",
    "\n",
    "\t\tdataframe = dataframe.append({'Title':title,'Location':location,\"Company\":company,\n",
    "\t\t\t\t\t\t\"Sponsored\":sponsored,\"Description\":job_desc},\n",
    "\t\t\t\t\t\tignore_index=True)\n",
    "\n",
    "\n",
    "dataframe.to_csv(\"datascience.csv\",index=False)\n",
    "\n"
   ]
  },
  {
   "cell_type": "markdown",
   "metadata": {},
   "source": [
    "# Code for Analysis "
   ]
  },
  {
   "cell_type": "code",
   "execution_count": 3,
   "metadata": {},
   "outputs": [],
   "source": [
    "import pandas as pd \n",
    "import numpy as np\n",
    "import matplotlib.pyplot as plt "
   ]
  },
  {
   "cell_type": "code",
   "execution_count": 4,
   "metadata": {},
   "outputs": [
    {
     "data": {
      "text/plain": [
       "(1830, 6)"
      ]
     },
     "execution_count": 4,
     "metadata": {},
     "output_type": "execute_result"
    }
   ],
   "source": [
    "df1 = pd.read_csv('machinelearning.csv' , encoding = 'utf-8')\n",
    "df2 = pd.read_csv('datascience.csv' , encoding = 'utf-8')\n",
    "df3 = pd.read_csv('datascience2.csv' , encoding = 'utf-8')\n",
    "df4 = pd.read_csv('data_analyst.csv' , encoding = 'utf-8')\n",
    "df5 = pd.read_csv('ai.csv' , encoding = 'utf-8')\n",
    "\n",
    "df = pd.concat([df1,df2,df3,df4,df5] , axis = 0).drop_duplicates()\n",
    "\n",
    "df.shape"
   ]
  },
  {
   "cell_type": "code",
   "execution_count": 5,
   "metadata": {},
   "outputs": [
    {
     "data": {
      "text/plain": [
       "(1561, 6)"
      ]
     },
     "execution_count": 5,
     "metadata": {},
     "output_type": "execute_result"
    }
   ],
   "source": [
    "df = df[df.Sponsored != 'Sponsored']\n",
    "df.shape"
   ]
  },
  {
   "cell_type": "markdown",
   "metadata": {},
   "source": [
    "Find the company with the highest number of job openings "
   ]
  },
  {
   "cell_type": "code",
   "execution_count": 6,
   "metadata": {},
   "outputs": [
    {
     "data": {
      "text/plain": [
       "<matplotlib.axes._subplots.AxesSubplot at 0x1f0968bf668>"
      ]
     },
     "execution_count": 6,
     "metadata": {},
     "output_type": "execute_result"
    },
    {
     "data": {
      "image/png": "[encoded data removed]",
      "text/plain": [
       "<Figure size 1440x360 with 1 Axes>"
      ]
     },
     "metadata": {
      "needs_background": "light"
     },
     "output_type": "display_data"
    }
   ],
   "source": [
    "counts = df.groupby(\"Company\").count()[\"Title\"].sort_values(ascending = False)[:25]\n",
    "counts.plot(\"bar\" , figsize=(20,5))"
   ]
  },
  {
   "cell_type": "markdown",
   "metadata": {},
   "source": [
    "Locations with the highest number of job postings"
   ]
  },
  {
   "cell_type": "code",
   "execution_count": 7,
   "metadata": {},
   "outputs": [
    {
     "data": {
      "text/plain": [
       "Location\n",
       "Bengaluru, Karnataka          472\n",
       "Pune, Maharashtra             223\n",
       "Hyderabad, Telangana          158\n",
       "Mumbai, Maharashtra           115\n",
       "Gurgaon, Haryana               97\n",
       "Delhi, Delhi                   60\n",
       "India                          50\n",
       "Chennai, Tamil Nadu            50\n",
       "Noida, Uttar Pradesh           46\n",
       "Ahmedabad, Gujarat             27\n",
       "New Delhi, Delhi               16\n",
       "Thiruvananthapuram, Kerala     14\n",
       "Kolkata, West Bengal           14\n",
       "Kochi, Kerala                  14\n",
       "Navi Mumbai, Maharashtra       11\n",
       "Name: Title, dtype: int64"
      ]
     },
     "execution_count": 7,
     "metadata": {},
     "output_type": "execute_result"
    }
   ],
   "source": [
    "loc_counts = df.groupby('Location').count()[\"Title\"].sort_values(ascending = False)[:15]\n",
    "loc_counts\n",
    "#loc_counts.plot(\"bar\" , figsize=(10,10))"
   ]
  },
  {
   "cell_type": "code",
   "execution_count": 8,
   "metadata": {},
   "outputs": [
    {
     "data": {
      "text/plain": [
       "253597.5625"
      ]
     },
     "execution_count": 8,
     "metadata": {},
     "output_type": "execute_result"
    }
   ],
   "source": [
    "def format_salary(row):\n",
    "    salary = row['Salary']\n",
    "    if \"-\" in salary:\n",
    "        split = salary.split(\"-\")\n",
    "        salary_min = split[0]\n",
    "        salary_max = split[1]\n",
    "    else:\n",
    "        salary_min = salary\n",
    "        salary_max = salary\n",
    "        \n",
    "    row[\"salary_min\"] = salary_min.replace(\"₹\" , \"\").replace(\"a month\" , \"\").replace(\"a year\" , \"\").replace(\",\" , \"\")\n",
    "    row[\"salary_max\"] = salary_max.replace(\"₹\" , \"\").replace(\"a month\" , \"\").replace(\"a year\" , \"\").replace(\",\" , \"\")\n",
    "    \n",
    "    if \"month\" in row[\"Salary\"]:\n",
    "        row[\"salary_min\"] = int(row[\"salary_min\"])*12\n",
    "        row[\"salary_max\"] = int(row[\"salary_max\"]) *12\n",
    "        \n",
    "    return row\n",
    "\n",
    "\n",
    "df_salary = df[df[\"Salary\"] != 'None'].dropna()\n",
    "df_salary = df_salary.apply(format_salary,axis = 1)\n",
    "\n",
    "df_salary[\"salary_min\"] = pd.to_numeric(df_salary[\"salary_min\"] , \"coerce\")\n",
    "df_salary[\"salary_max\"] = pd.to_numeric(df_salary[\"salary_max\"] , \"coerce\")\n",
    "\n",
    "\n",
    "df_salary['salary_min'].mean()"
   ]
  },
  {
   "cell_type": "code",
   "execution_count": 9,
   "metadata": {},
   "outputs": [],
   "source": [
    "def cleanData(desc):\n",
    "    desc = word_tokenize(desc)\n",
    "    desc = [word.lower() for word in desc if word.isalpha()and len(word) > 2]\n",
    "    desc = [word for word in desc if word not in stop_words]\n",
    "    return desc "
   ]
  },
  {
   "cell_type": "code",
   "execution_count": 10,
   "metadata": {},
   "outputs": [],
   "source": [
    "import nltk \n",
    "from nltk import word_tokenize\n",
    "\n",
    "from nltk.corpus import stopwords\n",
    "stop_words = stopwords.words('english')\n",
    "\n",
    "tags_df = df['Description'].apply(cleanData)"
   ]
  },
  {
   "cell_type": "code",
   "execution_count": 11,
   "metadata": {},
   "outputs": [],
   "source": [
    "from collections import Counter\n",
    "result = tags_df.apply(Counter).sum().items()\n",
    "result = sorted(result , key = lambda kv : kv[1],reverse = True)\n",
    "result_series = pd.Series({k:v for k,v in result})"
   ]
  },
  {
   "cell_type": "code",
   "execution_count": 12,
   "metadata": {},
   "outputs": [],
   "source": [
    "#skills = [\"tableau\" , \"power\" , \"qlik\"]\n",
    "#skills = [\"aws\" , \"azure\" ,\"google\"]\n",
    "#skills = [\"nltk\" , \"numpy\" , \"pandas\",\"jupyter\",\"opencv\"]\n",
    "#skills = [\"statistics\" , \"machine\" , \"deep\" , \"neural\" , \"predictive\"]\n",
    "skills = [\"experienced\" , \"intern\" , \"expert\" , \"fresher\" , \"begineer\" , \"intermediate\"]\n"
   ]
  },
  {
   "cell_type": "code",
   "execution_count": 13,
   "metadata": {},
   "outputs": [
    {
     "data": {
      "text/plain": [
       "<matplotlib.axes._subplots.AxesSubplot at 0x1f09ce8d518>"
      ]
     },
     "execution_count": 13,
     "metadata": {},
     "output_type": "execute_result"
    },
    {
     "data": {
      "image/png": "[encoded data removed]",
      "text/plain": [
       "<Figure size 1440x360 with 1 Axes>"
      ]
     },
     "metadata": {
      "needs_background": "light"
     },
     "output_type": "display_data"
    }
   ],
   "source": [
    "filter_series = result_series.filter(items = skills)\n",
    "filter_series.plot('bar' , figsize=(20,5) , color = 'red')"
   ]
  }
 ],
 "metadata": {
  "kernelspec": {
   "display_name": "Python 3",
   "language": "python",
   "name": "python3"
  },
  "language_info": {
   "codemirror_mode": {
    "name": "ipython",
    "version": 3
   },
   "file_extension": ".py",
   "mimetype": "text/x-python",
   "name": "python",
   "nbconvert_exporter": "python",
   "pygments_lexer": "ipython3",
   "version": "3.6.8"
  }
 },
 "nbformat": 4,
 "nbformat_minor": 2
}
